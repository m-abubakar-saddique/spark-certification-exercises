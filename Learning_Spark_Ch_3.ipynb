{
  "nbformat": 4,
  "nbformat_minor": 0,
  "metadata": {
    "colab": {
      "provenance": [],
      "toc_visible": true,
      "include_colab_link": true
    },
    "kernelspec": {
      "display_name": "Python 3",
      "language": "python",
      "name": "python3"
    },
    "language_info": {
      "codemirror_mode": {
        "name": "ipython",
        "version": 3
      },
      "file_extension": ".py",
      "mimetype": "text/x-python",
      "name": "python",
      "nbconvert_exporter": "python",
      "pygments_lexer": "ipython3",
      "version": "3.6.5"
    }
  },
  "cells": [
    {
      "cell_type": "markdown",
      "metadata": {
        "id": "view-in-github",
        "colab_type": "text"
      },
      "source": [
        "<a href=\"https://colab.research.google.com/github/m-abubakar-saddique/spark-certification-exercises/blob/dev/Learning_Spark_Ch_3.ipynb\" target=\"_parent\"><img src=\"https://colab.research.google.com/assets/colab-badge.svg\" alt=\"Open In Colab\"/></a>"
      ]
    },
    {
      "cell_type": "markdown",
      "metadata": {
        "id": "iox_ufgbqDXa"
      },
      "source": [
        "<h1><center>Learning Spark Chapter 3 Exercises</center></h1>"
      ]
    },
    {
      "cell_type": "code",
      "metadata": {
        "id": "zdO9sjSdEVnr",
        "colab": {
          "base_uri": "https://localhost:8080/"
        },
        "outputId": "a55535b0-82de-48e3-8ff4-ebb35271f466"
      },
      "source": [
        "ls"
      ],
      "execution_count": null,
      "outputs": [
        {
          "output_type": "stream",
          "name": "stdout",
          "text": [
            "\u001b[0m\u001b[01;34msample_data\u001b[0m/\n"
          ]
        }
      ]
    },
    {
      "cell_type": "code",
      "metadata": {
        "id": "QF9e3lDDEX3I",
        "colab": {
          "base_uri": "https://localhost:8080/",
          "height": 36
        },
        "outputId": "f490387a-ac77-418a-e44f-921eb0aea534"
      },
      "source": [
        "pwd"
      ],
      "execution_count": null,
      "outputs": [
        {
          "output_type": "execute_result",
          "data": {
            "text/plain": [
              "'/content'"
            ],
            "application/vnd.google.colaboratory.intrinsic+json": {
              "type": "string"
            }
          },
          "metadata": {},
          "execution_count": 1
        }
      ]
    },
    {
      "cell_type": "markdown",
      "metadata": {
        "id": "Dd6t0uFzuR4X"
      },
      "source": [
        "<a id='installing-spark'></a>\n",
        "### Installing Spark"
      ]
    },
    {
      "cell_type": "markdown",
      "metadata": {
        "id": "6apGVff5h4ca"
      },
      "source": [
        "Install Dependencies:\n",
        "\n",
        "\n",
        "1.   Java 8\n",
        "2.   Apache Spark with hadoop and\n",
        "3.   Findspark (used to locate the spark in the system)\n"
      ]
    },
    {
      "cell_type": "code",
      "metadata": {
        "id": "tt7ZS1_wGgjn"
      },
      "source": [
        "!apt-get install openjdk-8-jdk-headless -qq > /dev/null\n",
        "!wget -q http://archive.apache.org/dist/spark/spark-3.1.1/spark-3.1.1-bin-hadoop3.2.tgz\n",
        "!tar xf spark-3.1.1-bin-hadoop3.2.tgz\n",
        "!pip install -q findspark"
      ],
      "execution_count": null,
      "outputs": []
    },
    {
      "cell_type": "markdown",
      "metadata": {
        "id": "C3x0ZRLxjMVr"
      },
      "source": [
        "Set Environment Variables:"
      ]
    },
    {
      "cell_type": "code",
      "metadata": {
        "id": "sdOOq4twHN1K"
      },
      "source": [
        "import os\n",
        "os.environ[\"JAVA_HOME\"] = \"/usr/lib/jvm/java-8-openjdk-amd64\"\n",
        "os.environ[\"SPARK_HOME\"] = \"/content/spark-3.1.1-bin-hadoop3.2\""
      ],
      "execution_count": null,
      "outputs": []
    },
    {
      "cell_type": "code",
      "metadata": {
        "id": "3ACYMwhgHTYz",
        "colab": {
          "base_uri": "https://localhost:8080/"
        },
        "outputId": "6e99419e-b594-40c0-819b-836bf08be16f"
      },
      "source": [
        "!ls"
      ],
      "execution_count": null,
      "outputs": [
        {
          "output_type": "stream",
          "name": "stdout",
          "text": [
            "sample_data  spark-3.1.1-bin-hadoop3.2\tspark-3.1.1-bin-hadoop3.2.tgz\n"
          ]
        }
      ]
    },
    {
      "cell_type": "code",
      "metadata": {
        "id": "KR1zLBk1998Z",
        "colab": {
          "base_uri": "https://localhost:8080/",
          "height": 219
        },
        "outputId": "017bfc6d-e2fe-4d14-d05e-80d3b871a731"
      },
      "source": [
        "import findspark\n",
        "findspark.init()\n",
        "from pyspark.sql import SparkSession\n",
        "spark = SparkSession.builder.master(\"local[*]\").getOrCreate()\n",
        "spark.conf.set(\"spark.sql.repl.eagerEval.enabled\", True) # Property used to format output tables better\n",
        "spark"
      ],
      "execution_count": null,
      "outputs": [
        {
          "output_type": "execute_result",
          "data": {
            "text/plain": [
              "<pyspark.sql.session.SparkSession at 0x7fca18553100>"
            ],
            "text/html": [
              "\n",
              "            <div>\n",
              "                <p><b>SparkSession - in-memory</b></p>\n",
              "                \n",
              "        <div>\n",
              "            <p><b>SparkContext</b></p>\n",
              "\n",
              "            <p><a href=\"http://b01a534d6878:4040\">Spark UI</a></p>\n",
              "\n",
              "            <dl>\n",
              "              <dt>Version</dt>\n",
              "                <dd><code>v3.1.1</code></dd>\n",
              "              <dt>Master</dt>\n",
              "                <dd><code>local[*]</code></dd>\n",
              "              <dt>AppName</dt>\n",
              "                <dd><code>pyspark-shell</code></dd>\n",
              "            </dl>\n",
              "        </div>\n",
              "        \n",
              "            </div>\n",
              "        "
            ]
          },
          "metadata": {},
          "execution_count": 5
        }
      ]
    },
    {
      "cell_type": "markdown",
      "source": [
        "# Downloding st-fire-call data"
      ],
      "metadata": {
        "id": "olou3eziJ0ra"
      }
    },
    {
      "cell_type": "code",
      "source": [
        "!wget https://raw.githubusercontent.com/databricks/LearningSparkV2/master/chapter3/data/sf-fire-calls.csv"
      ],
      "metadata": {
        "colab": {
          "base_uri": "https://localhost:8080/"
        },
        "id": "uS6LG2F2k4c5",
        "outputId": "7ba02897-a1f9-4640-d2a7-92d152a8bf7e"
      },
      "execution_count": null,
      "outputs": [
        {
          "output_type": "stream",
          "name": "stdout",
          "text": [
            "--2023-06-30 02:22:15--  https://raw.githubusercontent.com/databricks/LearningSparkV2/master/chapter3/data/sf-fire-calls.csv\n",
            "Resolving raw.githubusercontent.com (raw.githubusercontent.com)... 185.199.109.133, 185.199.108.133, 185.199.110.133, ...\n",
            "Connecting to raw.githubusercontent.com (raw.githubusercontent.com)|185.199.109.133|:443... connected.\n",
            "HTTP request sent, awaiting response... 200 OK\n",
            "Length: 44530123 (42M) [text/plain]\n",
            "Saving to: ‘sf-fire-calls.csv’\n",
            "\n",
            "sf-fire-calls.csv   100%[===================>]  42.47M   152MB/s    in 0.3s    \n",
            "\n",
            "2023-06-30 02:22:16 (152 MB/s) - ‘sf-fire-calls.csv’ saved [44530123/44530123]\n",
            "\n"
          ]
        }
      ]
    },
    {
      "cell_type": "code",
      "source": [
        "from pyspark.sql.types import *\n",
        "# Programmatic way to define a schema\n",
        "fire_schema = StructType([StructField('CallNumber', IntegerType(), True),\n",
        " StructField('UnitID', StringType(), True),\n",
        " StructField('IncidentNumber', IntegerType(), True),\n",
        " StructField('CallType', StringType(), True),\n",
        " StructField('CallDate', StringType(), True),\n",
        " StructField('WatchDate', StringType(), True),\n",
        " StructField('CallFinalDisposition', StringType(), True),\n",
        " StructField('AvailableDtTm', StringType(), True),\n",
        " StructField('Address', StringType(), True),\n",
        " StructField('City', StringType(), True),\n",
        " StructField('Zipcode', IntegerType(), True),\n",
        " StructField('Battalion', StringType(), True),\n",
        " StructField('StationArea', StringType(), True),\n",
        " StructField('Box', StringType(), True),\n",
        " StructField('OriginalPriority', StringType(), True),\n",
        " StructField('Priority', StringType(), True),\n",
        " StructField('FinalPriority', IntegerType(), True),\n",
        " StructField('ALSUnit', BooleanType(), True),\n",
        " StructField('CallTypeGroup', StringType(), True),\n",
        " StructField('NumAlarms', IntegerType(), True),\n",
        " StructField('UnitType', StringType(), True),\n",
        " StructField('UnitSequenceInCallDispatch', IntegerType(), True),\n",
        " StructField('FirePreventionDistrict', StringType(), True),\n",
        " StructField('SupervisorDistrict', StringType(), True),\n",
        " StructField('Neighborhood', StringType(), True),\n",
        " StructField('Location', StringType(), True),\n",
        " StructField('RowID', StringType(), True),\n",
        " StructField('Delay', FloatType(), True)])\n",
        "# Use the DataFrameReader interface to read a CSV file\n",
        "sf_fire_file = \"sf-fire-calls.csv\"\n",
        "fire_df = spark.read.csv(sf_fire_file, header=True, schema=fire_schema)\n"
      ],
      "metadata": {
        "id": "dIZ9jX4NlFGV"
      },
      "execution_count": null,
      "outputs": []
    },
    {
      "cell_type": "markdown",
      "source": [],
      "metadata": {
        "id": "LAOO3eopKJ7Z"
      }
    },
    {
      "cell_type": "code",
      "source": [
        "from pyspark.sql.functions import col\n",
        "\n",
        "few_fire_df = (fire_df\n",
        " .select(\"IncidentNumber\", \"AvailableDtTm\", \"CallType\")\n",
        " .where(col(\"CallType\") != \"Medical Incident\"))\n",
        "few_fire_df.show(5, truncate=False)\n"
      ],
      "metadata": {
        "colab": {
          "base_uri": "https://localhost:8080/"
        },
        "id": "VcZvGKNQlFZT",
        "outputId": "02576fdf-534b-4f9b-82b6-b2bb6c9b2e53"
      },
      "execution_count": null,
      "outputs": [
        {
          "output_type": "stream",
          "name": "stdout",
          "text": [
            "+--------------+----------------------+--------------+\n",
            "|IncidentNumber|AvailableDtTm         |CallType      |\n",
            "+--------------+----------------------+--------------+\n",
            "|2003235       |01/11/2002 01:51:44 AM|Structure Fire|\n",
            "|2003250       |01/11/2002 04:16:46 AM|Vehicle Fire  |\n",
            "|2003259       |01/11/2002 06:01:58 AM|Alarms        |\n",
            "|2003279       |01/11/2002 08:03:26 AM|Structure Fire|\n",
            "|2003301       |01/11/2002 09:46:44 AM|Alarms        |\n",
            "+--------------+----------------------+--------------+\n",
            "only showing top 5 rows\n",
            "\n"
          ]
        }
      ]
    },
    {
      "cell_type": "markdown",
      "source": [
        "# Finidng Total Number of Call Types"
      ],
      "metadata": {
        "id": "PfKe2TNYKR6E"
      }
    },
    {
      "cell_type": "code",
      "source": [
        "from pyspark.sql.functions import *\n",
        "(fire_df\n",
        " .select(\"CallType\")\n",
        " .where(col(\"CallType\").isNotNull())\n",
        " .agg(countDistinct(\"CallType\").alias(\"DistinctCallTypes\"))\n",
        " .show())"
      ],
      "metadata": {
        "colab": {
          "base_uri": "https://localhost:8080/"
        },
        "id": "7S_kV3OwlFc2",
        "outputId": "8349b0f1-373a-4afc-d6c4-7add14840c95"
      },
      "execution_count": null,
      "outputs": [
        {
          "output_type": "stream",
          "name": "stdout",
          "text": [
            "+-----------------+\n",
            "|DistinctCallTypes|\n",
            "+-----------------+\n",
            "|               30|\n",
            "+-----------------+\n",
            "\n"
          ]
        }
      ]
    },
    {
      "cell_type": "code",
      "source": [
        "fire_df.select(\"CallType\").where(col('CallType').isNotNull()).distinct().count()"
      ],
      "metadata": {
        "id": "z7zNupy-m2Rc",
        "outputId": "193142e9-41f6-40cd-d9d5-e44c6087786a",
        "colab": {
          "base_uri": "https://localhost:8080/"
        }
      },
      "execution_count": null,
      "outputs": [
        {
          "output_type": "execute_result",
          "data": {
            "text/plain": [
              "30"
            ]
          },
          "metadata": {},
          "execution_count": 11
        }
      ]
    },
    {
      "cell_type": "code",
      "source": [
        "# In Python, filter for only distinct non-null CallTypes from all the rows\n",
        "(fire_df\n",
        " .select(\"CallType\")\n",
        " .where(col(\"CallType\").isNotNull())\n",
        " .distinct()\n",
        " .show(10, False))"
      ],
      "metadata": {
        "id": "maIlO7tenc7M",
        "outputId": "5cbf6e6e-b37c-4fa1-858e-7939dcf4b6e1",
        "colab": {
          "base_uri": "https://localhost:8080/"
        }
      },
      "execution_count": null,
      "outputs": [
        {
          "output_type": "stream",
          "name": "stdout",
          "text": [
            "+-----------------------------------+\n",
            "|CallType                           |\n",
            "+-----------------------------------+\n",
            "|Elevator / Escalator Rescue        |\n",
            "|Marine Fire                        |\n",
            "|Aircraft Emergency                 |\n",
            "|Confined Space / Structure Collapse|\n",
            "|Administrative                     |\n",
            "|Alarms                             |\n",
            "|Odor (Strange / Unknown)           |\n",
            "|Citizen Assist / Service Call      |\n",
            "|HazMat                             |\n",
            "|Watercraft in Distress             |\n",
            "+-----------------------------------+\n",
            "only showing top 10 rows\n",
            "\n"
          ]
        }
      ]
    },
    {
      "cell_type": "code",
      "source": [
        "new_fire_df = fire_df.withColumnRenamed(\"Delay\", \"ResponseDelayedinMins\")\n",
        "(new_fire_df\n",
        " .select(\"ResponseDelayedinMins\")\n",
        " .where(col(\"ResponseDelayedinMins\") > 5)\n",
        " .show(5, False))"
      ],
      "metadata": {
        "id": "YpFuO1lWoV5t",
        "outputId": "99cf9d23-9d13-428e-e762-d255b2d8a08f",
        "colab": {
          "base_uri": "https://localhost:8080/"
        }
      },
      "execution_count": null,
      "outputs": [
        {
          "output_type": "stream",
          "name": "stdout",
          "text": [
            "+---------------------+\n",
            "|ResponseDelayedinMins|\n",
            "+---------------------+\n",
            "|5.35                 |\n",
            "|6.25                 |\n",
            "|5.2                  |\n",
            "|5.6                  |\n",
            "|7.25                 |\n",
            "+---------------------+\n",
            "only showing top 5 rows\n",
            "\n"
          ]
        }
      ]
    },
    {
      "cell_type": "code",
      "source": [
        "new_fire_df.printSchema()"
      ],
      "metadata": {
        "id": "xEUWuwiBo-fx",
        "outputId": "270bb160-0869-40f1-fecf-8d19bdffee35",
        "colab": {
          "base_uri": "https://localhost:8080/"
        }
      },
      "execution_count": null,
      "outputs": [
        {
          "output_type": "stream",
          "name": "stdout",
          "text": [
            "root\n",
            " |-- CallNumber: integer (nullable = true)\n",
            " |-- UnitID: string (nullable = true)\n",
            " |-- IncidentNumber: integer (nullable = true)\n",
            " |-- CallType: string (nullable = true)\n",
            " |-- CallDate: string (nullable = true)\n",
            " |-- WatchDate: string (nullable = true)\n",
            " |-- CallFinalDisposition: string (nullable = true)\n",
            " |-- AvailableDtTm: string (nullable = true)\n",
            " |-- Address: string (nullable = true)\n",
            " |-- City: string (nullable = true)\n",
            " |-- Zipcode: integer (nullable = true)\n",
            " |-- Battalion: string (nullable = true)\n",
            " |-- StationArea: string (nullable = true)\n",
            " |-- Box: string (nullable = true)\n",
            " |-- OriginalPriority: string (nullable = true)\n",
            " |-- Priority: string (nullable = true)\n",
            " |-- FinalPriority: integer (nullable = true)\n",
            " |-- ALSUnit: boolean (nullable = true)\n",
            " |-- CallTypeGroup: string (nullable = true)\n",
            " |-- NumAlarms: integer (nullable = true)\n",
            " |-- UnitType: string (nullable = true)\n",
            " |-- UnitSequenceInCallDispatch: integer (nullable = true)\n",
            " |-- FirePreventionDistrict: string (nullable = true)\n",
            " |-- SupervisorDistrict: string (nullable = true)\n",
            " |-- Neighborhood: string (nullable = true)\n",
            " |-- Location: string (nullable = true)\n",
            " |-- RowID: string (nullable = true)\n",
            " |-- ResponseDelayedinMins: float (nullable = true)\n",
            "\n"
          ]
        }
      ]
    },
    {
      "cell_type": "code",
      "source": [
        "fire_ts_df = (new_fire_df\n",
        " .withColumn(\"IncidentDate\", to_timestamp(col(\"CallDate\"), \"MM/dd/yyyy\"))\n",
        " .drop(\"CallDate\")\n",
        " .withColumn(\"OnWatchDate\", to_timestamp(col(\"WatchDate\"), \"MM/dd/yyyy\"))\n",
        " .drop(\"WatchDate\")\n",
        " .withColumn(\"AvailableDtTS\", to_timestamp(col(\"AvailableDtTm\"),\n",
        " \"MM/dd/yyyy hh:mm:ss a\"))\n",
        " .drop(\"AvailableDtTm\"))\n",
        "# Select the converted columns\n",
        "(fire_ts_df\n",
        " .select(\"IncidentDate\", \"OnWatchDate\", \"AvailableDtTS\")\n",
        " .show(5, False))"
      ],
      "metadata": {
        "id": "u_NmWy-QoqmR",
        "outputId": "4c92d296-8950-4376-821c-6559740bc2d4",
        "colab": {
          "base_uri": "https://localhost:8080/"
        }
      },
      "execution_count": null,
      "outputs": [
        {
          "output_type": "stream",
          "name": "stdout",
          "text": [
            "+-------------------+-------------------+-------------------+\n",
            "|IncidentDate       |OnWatchDate        |AvailableDtTS      |\n",
            "+-------------------+-------------------+-------------------+\n",
            "|2002-01-11 00:00:00|2002-01-10 00:00:00|2002-01-11 01:51:44|\n",
            "|2002-01-11 00:00:00|2002-01-10 00:00:00|2002-01-11 03:01:18|\n",
            "|2002-01-11 00:00:00|2002-01-10 00:00:00|2002-01-11 02:39:50|\n",
            "|2002-01-11 00:00:00|2002-01-10 00:00:00|2002-01-11 04:16:46|\n",
            "|2002-01-11 00:00:00|2002-01-10 00:00:00|2002-01-11 06:01:58|\n",
            "+-------------------+-------------------+-------------------+\n",
            "only showing top 5 rows\n",
            "\n"
          ]
        }
      ]
    },
    {
      "cell_type": "code",
      "source": [
        "# fire_ts_df = (new_fire_df\n",
        "#  .withColumn(\"IncidentDate\", to_date(col(\"CallDate\"), \"MM/dd/yyyy\"))\n",
        "#  .drop(\"CallDate\")\n",
        "#  .withColumn(\"OnWatchDate\", to_timestamp(col(\"WatchDate\"), \"MM/dd/yyyy\"))\n",
        "#  .drop(\"WatchDate\")\n",
        "#  .withColumn(\"AvailableDtTS\", to_timestamp(col(\"AvailableDtTm\"),\n",
        "#  \"MM/dd/yyyy hh:mm:ss a\"))\n",
        "#  .drop(\"AvailableDtTm\"))\n",
        "# # Select the converted columns\n",
        "# (fire_ts_df\n",
        "#  .select(\"IncidentDate\", \"OnWatchDate\", \"AvailableDtTS\")\n",
        "#  .show(5, False))"
      ],
      "metadata": {
        "id": "FgZqYBZjpbpu"
      },
      "execution_count": null,
      "outputs": []
    },
    {
      "cell_type": "code",
      "source": [
        "fire_ts_df.show(2)"
      ],
      "metadata": {
        "id": "AMnpe8TRpmS_",
        "outputId": "361a92f4-d0dc-4d37-a143-fd67dbe1d0e4",
        "colab": {
          "base_uri": "https://localhost:8080/"
        }
      },
      "execution_count": null,
      "outputs": [
        {
          "output_type": "stream",
          "name": "stdout",
          "text": [
            "+----------+------+--------------+----------------+--------------------+--------------------+----+-------+---------+-----------+----+----------------+--------+-------------+-------+-------------+---------+--------+--------------------------+----------------------+------------------+--------------------+--------------------+-------------+---------------------+-------------------+-------------------+-------------------+\n",
            "|CallNumber|UnitID|IncidentNumber|        CallType|CallFinalDisposition|             Address|City|Zipcode|Battalion|StationArea| Box|OriginalPriority|Priority|FinalPriority|ALSUnit|CallTypeGroup|NumAlarms|UnitType|UnitSequenceInCallDispatch|FirePreventionDistrict|SupervisorDistrict|        Neighborhood|            Location|        RowID|ResponseDelayedinMins|       IncidentDate|        OnWatchDate|      AvailableDtTS|\n",
            "+----------+------+--------------+----------------+--------------------+--------------------+----+-------+---------+-----------+----+----------------+--------+-------------+-------+-------------+---------+--------+--------------------------+----------------------+------------------+--------------------+--------------------+-------------+---------------------+-------------------+-------------------+-------------------+\n",
            "|  20110016|   T13|       2003235|  Structure Fire|               Other|2000 Block of CAL...|  SF|  94109|      B04|         38|3362|               3|       3|            3|  false|         null|        1|   TRUCK|                         2|                     4|                 5|     Pacific Heights|(37.7895840679362...|020110016-T13|                 2.95|2002-01-11 00:00:00|2002-01-10 00:00:00|2002-01-11 01:51:44|\n",
            "|  20110022|   M17|       2003241|Medical Incident|               Other|0 Block of SILVER...|  SF|  94124|      B10|         42|6495|               3|       3|            3|   true|         null|        1|   MEDIC|                         1|                    10|                10|Bayview Hunters P...|(37.7337623673897...|020110022-M17|                  4.7|2002-01-11 00:00:00|2002-01-10 00:00:00|2002-01-11 03:01:18|\n",
            "+----------+------+--------------+----------------+--------------------+--------------------+----+-------+---------+-----------+----+----------------+--------+-------------+-------+-------------+---------+--------+--------------------------+----------------------+------------------+--------------------+--------------------+-------------+---------------------+-------------------+-------------------+-------------------+\n",
            "only showing top 2 rows\n",
            "\n"
          ]
        }
      ]
    },
    {
      "cell_type": "markdown",
      "source": [
        "# Finding How many years data it contains"
      ],
      "metadata": {
        "id": "_Wpa92I2KmmS"
      }
    },
    {
      "cell_type": "code",
      "source": [
        "fire_ts_df.select(year('IncidentDate')).distinct().orderBy(year('IncidentDate')).show()"
      ],
      "metadata": {
        "id": "yiXbFU5PqGRQ",
        "outputId": "6c04b40a-7fe7-4088-e497-6c76f9665422",
        "colab": {
          "base_uri": "https://localhost:8080/"
        }
      },
      "execution_count": null,
      "outputs": [
        {
          "output_type": "stream",
          "name": "stdout",
          "text": [
            "+------------------+\n",
            "|year(IncidentDate)|\n",
            "+------------------+\n",
            "|              2000|\n",
            "|              2001|\n",
            "|              2002|\n",
            "|              2003|\n",
            "|              2004|\n",
            "|              2005|\n",
            "|              2006|\n",
            "|              2007|\n",
            "|              2008|\n",
            "|              2009|\n",
            "|              2010|\n",
            "|              2011|\n",
            "|              2012|\n",
            "|              2013|\n",
            "|              2014|\n",
            "|              2015|\n",
            "|              2016|\n",
            "|              2017|\n",
            "|              2018|\n",
            "+------------------+\n",
            "\n"
          ]
        }
      ]
    },
    {
      "cell_type": "markdown",
      "source": [
        "# Finding Total Number of incidents by each Call Type"
      ],
      "metadata": {
        "id": "41SExXdMK0Mo"
      }
    },
    {
      "cell_type": "code",
      "source": [
        "fire_ts_df.select('CallType').where(col('CallType').isNotNull()).groupBy('CallType').count() \\\n",
        "  .orderBy('count', ascending=False).show(n=10, truncate=False)"
      ],
      "metadata": {
        "id": "tce6V3tVrH6I",
        "outputId": "2b870964-0a0e-4f6b-977d-3e810206d011",
        "colab": {
          "base_uri": "https://localhost:8080/"
        }
      },
      "execution_count": null,
      "outputs": [
        {
          "output_type": "stream",
          "name": "stdout",
          "text": [
            "+-------------------------------+------+\n",
            "|CallType                       |count |\n",
            "+-------------------------------+------+\n",
            "|Medical Incident               |113794|\n",
            "|Structure Fire                 |23319 |\n",
            "|Alarms                         |19406 |\n",
            "|Traffic Collision              |7013  |\n",
            "|Citizen Assist / Service Call  |2524  |\n",
            "|Other                          |2166  |\n",
            "|Outside Fire                   |2094  |\n",
            "|Vehicle Fire                   |854   |\n",
            "|Gas Leak (Natural and LP Gases)|764   |\n",
            "|Water Rescue                   |755   |\n",
            "+-------------------------------+------+\n",
            "only showing top 10 rows\n",
            "\n"
          ]
        }
      ]
    },
    {
      "cell_type": "markdown",
      "source": [
        "# Performing Min, Max, Avg & Sum operations"
      ],
      "metadata": {
        "id": "Hf-HvxS-LSTo"
      }
    },
    {
      "cell_type": "code",
      "source": [
        "import pyspark.sql.functions as F\n",
        "(fire_ts_df\n",
        " .select(F.sum(\"NumAlarms\"), F.avg(\"ResponseDelayedinMins\"),\n",
        " F.min(\"ResponseDelayedinMins\"), F.max(\"ResponseDelayedinMins\"))\n",
        " .show())"
      ],
      "metadata": {
        "id": "-90DU09BsAk3",
        "outputId": "87b799af-feaf-4be7-f3ba-ccc8846b7ae4",
        "colab": {
          "base_uri": "https://localhost:8080/"
        }
      },
      "execution_count": null,
      "outputs": [
        {
          "output_type": "stream",
          "name": "stdout",
          "text": [
            "+--------------+--------------------------+--------------------------+--------------------------+\n",
            "|sum(NumAlarms)|avg(ResponseDelayedinMins)|min(ResponseDelayedinMins)|max(ResponseDelayedinMins)|\n",
            "+--------------+--------------------------+--------------------------+--------------------------+\n",
            "|        176170|         3.892364154521585|               0.016666668|                   1844.55|\n",
            "+--------------+--------------------------+--------------------------+--------------------------+\n",
            "\n"
          ]
        }
      ]
    },
    {
      "cell_type": "code",
      "source": [],
      "metadata": {
        "id": "-5eFDpKZtfPX"
      },
      "execution_count": null,
      "outputs": []
    }
  ]
}